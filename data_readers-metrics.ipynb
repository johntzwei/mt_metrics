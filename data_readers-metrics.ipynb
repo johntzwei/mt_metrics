{
 "cells": [
  {
   "cell_type": "code",
   "execution_count": 1,
   "metadata": {},
   "outputs": [],
   "source": [
    "import glob\n",
    "import csv\n",
    "import gzip\n",
    "import itertools\n",
    "import re\n",
    "import pandas as pd"
   ]
  },
  {
   "cell_type": "markdown",
   "metadata": {},
   "source": [
    "### Aggregate dev data (2015, 2016)"
   ]
  },
  {
   "cell_type": "code",
   "execution_count": 2,
   "metadata": {},
   "outputs": [
    {
     "name": "stdout",
     "output_type": "stream",
     "text": [
      "./dev/2015/DAseg-wmt-newstest2015/DAseg.newstest2015.human.en-ru\n",
      "./dev/2015/DAseg-wmt-newstest2015/DAseg.newstest2015.human.fi-en\n",
      "./dev/2015/DAseg-wmt-newstest2015/DAseg.newstest2015.human.cs-en\n",
      "./dev/2015/DAseg-wmt-newstest2015/DAseg.newstest2015.human.de-en\n",
      "./dev/2015/DAseg-wmt-newstest2015/DAseg.newstest2015.human.ru-en\n",
      "./dev/2016/DAseg-wmt-newstest2016/DAseg.newstest2016.human.tr-en\n",
      "./dev/2016/DAseg-wmt-newstest2016/DAseg.newstest2016.human.ru-en\n",
      "./dev/2016/DAseg-wmt-newstest2016/DAseg.newstest2016.human.cs-en\n",
      "./dev/2016/DAseg-wmt-newstest2016/DAseg.newstest2016.human.de-en\n",
      "./dev/2016/DAseg-wmt-newstest2016/DAseg.newstest2016.human.fi-en\n",
      "./dev/2016/DAseg-wmt-newstest2016/DAseg.newstest2016.human.ro-en\n",
      "./dev/2016/DAseg-wmt-newstest2016/DAseg.newstest2016.human.en-ru\n"
     ]
    }
   ],
   "source": [
    "da = glob.glob('./dev/*/*/*.human.*')\n",
    "print('\\n'.join(da))"
   ]
  },
  {
   "cell_type": "code",
   "execution_count": 3,
   "metadata": {},
   "outputs": [
    {
     "name": "stdout",
     "output_type": "stream",
     "text": [
      "Processing newstest2015, en-ru...\n",
      "Processing newstest2015, fi-en...\n",
      "Processing newstest2015, cs-en...\n",
      "Processing newstest2015, de-en...\n",
      "Processing newstest2015, ru-en...\n",
      "Processing newstest2016, tr-en...\n",
      "Processing newstest2016, ru-en...\n",
      "Processing newstest2016, cs-en...\n",
      "Processing newstest2016, de-en...\n",
      "Processing newstest2016, fi-en...\n",
      "Processing newstest2016, ro-en...\n",
      "Processing newstest2016, en-ru...\n"
     ]
    }
   ],
   "source": [
    "cols = ['human', 'mt-system', 'reference', 'source']\n",
    "data = { 'src':[], 'trg':[], 'set':[], 'source':[], 'reference':[], 'mt-system':[], 'human':[] }\n",
    "\n",
    "for rating in da:\n",
    "    attr = rating.split('.')\n",
    "    lp = attr[-1]\n",
    "    test_set = attr[-3]\n",
    "    print('Processing %s, %s...' % (test_set, lp))\n",
    "    \n",
    "    length = len(list(open(rating, 'rt')))\n",
    "    \n",
    "    data['src'].extend(length * [lp[:2]])\n",
    "    data['trg'].extend(length * [lp[3:]])\n",
    "    data['set'].extend(length * [test_set])\n",
    "    \n",
    "    for col in cols:\n",
    "        attr[-2] = col\n",
    "        path = '.'.join(attr)\n",
    "        \n",
    "        data[col].extend([ i.strip() for i in open(path, 'rt') ])"
   ]
  },
  {
   "cell_type": "code",
   "execution_count": 4,
   "metadata": {},
   "outputs": [
    {
     "data": {
      "text/html": [
       "<div>\n",
       "<style scoped>\n",
       "    .dataframe tbody tr th:only-of-type {\n",
       "        vertical-align: middle;\n",
       "    }\n",
       "\n",
       "    .dataframe tbody tr th {\n",
       "        vertical-align: top;\n",
       "    }\n",
       "\n",
       "    .dataframe thead th {\n",
       "        text-align: right;\n",
       "    }\n",
       "</style>\n",
       "<table border=\"1\" class=\"dataframe\">\n",
       "  <thead>\n",
       "    <tr style=\"text-align: right;\">\n",
       "      <th></th>\n",
       "      <th>src</th>\n",
       "      <th>trg</th>\n",
       "      <th>set</th>\n",
       "      <th>source</th>\n",
       "      <th>reference</th>\n",
       "      <th>mt-system</th>\n",
       "      <th>human</th>\n",
       "    </tr>\n",
       "  </thead>\n",
       "  <tbody>\n",
       "    <tr>\n",
       "      <th>0</th>\n",
       "      <td>en</td>\n",
       "      <td>ru</td>\n",
       "      <td>newstest2015</td>\n",
       "      <td>\"It's not unexpected, but it is still infuriat...</td>\n",
       "      <td>\"Это не обмануло наши ожидания, но все-таки пр...</td>\n",
       "      <td>\"Это не неожиданное, но это все еще меня бесиш...</td>\n",
       "      <td>-0.404580</td>\n",
       "    </tr>\n",
       "    <tr>\n",
       "      <th>1</th>\n",
       "      <td>en</td>\n",
       "      <td>ru</td>\n",
       "      <td>newstest2015</td>\n",
       "      <td>We're excited to be answering this demand by l...</td>\n",
       "      <td>Мы рады отреагировать на такой спрос, запустив...</td>\n",
       "      <td>Мы быть для того чтобы отвечать этому требован...</td>\n",
       "      <td>-0.923881</td>\n",
       "    </tr>\n",
       "    <tr>\n",
       "      <th>2</th>\n",
       "      <td>en</td>\n",
       "      <td>ru</td>\n",
       "      <td>newstest2015</td>\n",
       "      <td>The winning couple had played the game for twe...</td>\n",
       "      <td>Выигравшая пара играет уже двадцать лет и сооб...</td>\n",
       "      <td>Пара победила на игру за двадцать лет и сказал...</td>\n",
       "      <td>-0.305908</td>\n",
       "    </tr>\n",
       "    <tr>\n",
       "      <th>3</th>\n",
       "      <td>en</td>\n",
       "      <td>ru</td>\n",
       "      <td>newstest2015</td>\n",
       "      <td>Previously, a similar vehicle scrappage progra...</td>\n",
       "      <td>Ранее в России уже действовала подобная програ...</td>\n",
       "      <td>Ранее подобная программа утилизации транспортн...</td>\n",
       "      <td>0.141536</td>\n",
       "    </tr>\n",
       "    <tr>\n",
       "      <th>4</th>\n",
       "      <td>en</td>\n",
       "      <td>ru</td>\n",
       "      <td>newstest2015</td>\n",
       "      <td>But now I can play computer games with shootin...</td>\n",
       "      <td>Но теперь я могу играть в компьютерные игры со...</td>\n",
       "      <td>Но теперь я могу играть в компьютерные игры со...</td>\n",
       "      <td>1.149710</td>\n",
       "    </tr>\n",
       "  </tbody>\n",
       "</table>\n",
       "</div>"
      ],
      "text/plain": [
       "  src trg           set                                             source  \\\n",
       "0  en  ru  newstest2015  \"It's not unexpected, but it is still infuriat...   \n",
       "1  en  ru  newstest2015  We're excited to be answering this demand by l...   \n",
       "2  en  ru  newstest2015  The winning couple had played the game for twe...   \n",
       "3  en  ru  newstest2015  Previously, a similar vehicle scrappage progra...   \n",
       "4  en  ru  newstest2015  But now I can play computer games with shootin...   \n",
       "\n",
       "                                           reference  \\\n",
       "0  \"Это не обмануло наши ожидания, но все-таки пр...   \n",
       "1  Мы рады отреагировать на такой спрос, запустив...   \n",
       "2  Выигравшая пара играет уже двадцать лет и сооб...   \n",
       "3  Ранее в России уже действовала подобная програ...   \n",
       "4  Но теперь я могу играть в компьютерные игры со...   \n",
       "\n",
       "                                           mt-system     human  \n",
       "0  \"Это не неожиданное, но это все еще меня бесиш... -0.404580  \n",
       "1  Мы быть для того чтобы отвечать этому требован... -0.923881  \n",
       "2  Пара победила на игру за двадцать лет и сказал... -0.305908  \n",
       "3  Ранее подобная программа утилизации транспортн...  0.141536  \n",
       "4  Но теперь я могу играть в компьютерные игры со...  1.149710  "
      ]
     },
     "execution_count": 4,
     "metadata": {},
     "output_type": "execute_result"
    }
   ],
   "source": [
    "dev = pd.DataFrame(data=data)\n",
    "dev[['human']] = dev[['human']].apply(pd.to_numeric)\n",
    "dev.head()"
   ]
  },
  {
   "cell_type": "markdown",
   "metadata": {},
   "source": [
    "### Dev data statistics"
   ]
  },
  {
   "cell_type": "code",
   "execution_count": 5,
   "metadata": {},
   "outputs": [
    {
     "data": {
      "text/plain": [
       "<matplotlib.axes._subplots.AxesSubplot at 0x7f34824da0f0>"
      ]
     },
     "execution_count": 5,
     "metadata": {},
     "output_type": "execute_result"
    }
   ],
   "source": [
    "dev['trg'].value_counts().plot(kind='bar')"
   ]
  },
  {
   "cell_type": "code",
   "execution_count": 6,
   "metadata": {},
   "outputs": [
    {
     "data": {
      "text/plain": [
       "<matplotlib.axes._subplots.AxesSubplot at 0x7f3482455b38>"
      ]
     },
     "execution_count": 6,
     "metadata": {},
     "output_type": "execute_result"
    },
    {
     "data": {
      "image/png": "[encoded data removed]",
      "text/plain": [
       "<Figure size 432x288 with 1 Axes>"
      ]
     },
     "metadata": {
      "needs_background": "light"
     },
     "output_type": "display_data"
    }
   ],
   "source": [
    "dev['human'].hist()"
   ]
  },
  {
   "cell_type": "markdown",
   "metadata": {},
   "source": [
    "### Aggregate test data (2017)"
   ]
  },
  {
   "cell_type": "markdown",
   "metadata": {},
   "source": [
    "#### Segment-level"
   ]
  },
  {
   "cell_type": "code",
   "execution_count": 7,
   "metadata": {},
   "outputs": [],
   "source": [
    "da_seg = csv.reader(open('./wmt17-metrics-task-package/manual-evaluation/DA-seglevel.csv'), delimiter=' ')\n",
    "headers = next(da_seg)\n",
    "\n",
    "da_dict = {}\n",
    "da_flags = {}\n",
    "for row in da_seg:\n",
    "    # need to strip the additional system if outputs equal\n",
    "    if '+' in row[2]:\n",
    "        system = row[2][:row[2].index('+')]\n",
    "    else:\n",
    "        system = row[2]\n",
    "    \n",
    "    basename = '%s.%s.%s' % (row[1], system, row[0])\n",
    "    line_num = int(row[3])\n",
    "    da_dict[(basename, line_num)] = row[-1]\n",
    "    da_flags[(basename, line_num)] = False"
   ]
  },
  {
   "cell_type": "code",
   "execution_count": null,
   "metadata": {},
   "outputs": [
    {
     "name": "stdout",
     "output_type": "stream",
     "text": [
      "sentence-BLEU\n",
      "TreeAggreg\n",
      "chrF+\n",
      "AutoDA-tecto\n",
      "chrF\n",
      "AutoDA\n",
      "BEER\n",
      "chrF++\n",
      "Blend\n",
      "UHH_TSKM\n",
      "MEANT_2.0-nosrl\n",
      "MEANT_2.0\n"
     ]
    }
   ],
   "source": [
    "baseline_segs = glob.glob('./wmt17-metrics-task-package/final-metric-scores/baselines/*.seg.*')\n",
    "submissions_segs = glob.glob('./wmt17-metrics-task-package/final-metric-scores/submissions-processed/*/*.seg.*')\n",
    "\n",
    "scores_dict = dict()\n",
    "metric_names = []\n",
    "\n",
    "for i in itertools.chain(baseline_segs, submissions_segs):\n",
    "    metric_name = i.split('/')[-1]\n",
    "    metric_name = metric_name[:-len('.seg.score.gz')] if metric_name.endswith('.gz') else metric_name[:-len('.seg.score')]\n",
    "    metric_names.append(metric_name)\n",
    "    print(metric_name)\n",
    "    \n",
    "    if i.endswith('.gz'):\n",
    "        segs = csv.reader(gzip.open(i, 'rt'), delimiter='\\t')\n",
    "    else:\n",
    "        segs = csv.reader(open(i, 'rt'), delimiter='\\t')\n",
    "    \n",
    "    for row in segs:\n",
    "        lang_pair = row[1]\n",
    "        set_ = row[2]\n",
    "        system = row[3]\n",
    "        line_no = row[4]\n",
    "        score = row[5]\n",
    "        \n",
    "        key = (set_, system, lang_pair, int(line_no))\n",
    "        scores_dict[key] = scores_dict.get(key, [])\n",
    "        scores_dict[key].append((metric_name, score))\n",
    "        \n",
    "print('Total segment-level submissions: %d' % len(metric_names))\n",
    "print('\\n'.join([ str(i) for i in itertools.islice(scores_dict.items(), None, 3) ]))"
   ]
  },
  {
   "cell_type": "code",
   "execution_count": null,
   "metadata": {},
   "outputs": [],
   "source": [
    "cols = ['human', 'mt-system', 'reference', 'source']\n",
    "data = { 'src':[], 'trg':[], 'set':[], 'system':[], 'source':[], 'reference':[], 'mt-system':[], 'human':[] }\n",
    "\n",
    "# add metric columns\n",
    "for metric_name in metric_names:\n",
    "    data['metric:%s' % metric_name] = []\n",
    "\n",
    "trials = glob.glob('./wmt17-metrics-task-package/input/tokenized/system-outputs/*/*/*')\n",
    "for trial in trials:\n",
    "    attr = trial.split('/')\n",
    "    lp = attr[6].replace('-', '')\n",
    "    refname = '%s-%s-ref.%s' % (attr[5], lp, lp[2:])\n",
    "    srcname = '%s-%s-src.%s' % (attr[5], lp, lp[:2])\n",
    "    \n",
    "    basename = attr[-1]\n",
    "    print('Processing %s...' % basename)\n",
    "    try:\n",
    "        source = list(open('./wmt17-metrics-task-package/input/raw/wmt17-submitted-data/txt/sources/%s' % srcname))\n",
    "    except:\n",
    "        source = list(open('./wmt17-metrics-task-package/input/raw/himltest17/txt/sources/%s' % srcname))\n",
    "    reference = list(open('./wmt17-metrics-task-package/input/tokenized/references/%s' % refname))\n",
    "    system_output = open(trial)\n",
    "    \n",
    "    for i, (src, ref, out) in enumerate(zip(source, reference, system_output), 1):\n",
    "        if (basename, i) in da_dict:\n",
    "            human = da_dict[(basename, i)]\n",
    "            da_flags[(basename, i)] = True\n",
    "            src, ref, out = src.strip(), ref.strip(), out.strip()\n",
    "            \n",
    "            data['src'].append(lp[:2])\n",
    "            data['trg'].append(lp[2:])\n",
    "            data['set'].append(attr[5])\n",
    "            data['system'].append(basename.split('.')[1])\n",
    "            data['source'].append(src)\n",
    "            data['reference'].append(ref)\n",
    "            data['mt-system'].append(out)\n",
    "            data['human'].append(human)\n",
    "            \n",
    "            # add metric scores\n",
    "            # there are periods in system names wtf\n",
    "            key = (attr[5], attr[-1][len(attr[5]+'.'):][:-len('.'+attr[6])], attr[6], i)\n",
    "            metric_col = { metric_name : None for metric_name in metric_names }\n",
    "            \n",
    "            if key in scores_dict:\n",
    "                for metric, score in scores_dict[key]:\n",
    "                    metric_col[metric] = score\n",
    "\n",
    "            for metric, score in metric_col.items():\n",
    "                data['metric:%s' % metric].append(score)"
   ]
  },
  {
   "cell_type": "markdown",
   "metadata": {},
   "source": [
    "### Test data (2017) statistics"
   ]
  },
  {
   "cell_type": "code",
   "execution_count": null,
   "metadata": {},
   "outputs": [],
   "source": [
    "test = pd.DataFrame(data=data)\n",
    "test[['human']] = test[['human']].apply(pd.to_numeric)\n",
    "for metric_name in metric_names:\n",
    "    metric_str = 'metric:%s' % metric_name\n",
    "    test[[metric_str]] = test[[metric_str]].apply(pd.to_numeric)\n",
    "test.head()"
   ]
  },
  {
   "cell_type": "code",
   "execution_count": null,
   "metadata": {},
   "outputs": [],
   "source": [
    "test['src-trg'] = test['src'] + '-' + test['trg']\n",
    "test.groupby('src-trg').count()"
   ]
  },
  {
   "cell_type": "code",
   "execution_count": null,
   "metadata": {},
   "outputs": [],
   "source": [
    "test[test.trg == 'en'].groupby('src').corr()"
   ]
  },
  {
   "cell_type": "markdown",
   "metadata": {},
   "source": [
    "#### System-level"
   ]
  },
  {
   "cell_type": "code",
   "execution_count": null,
   "metadata": {},
   "outputs": [],
   "source": [
    "baseline_syss = glob.glob('./wmt17-metrics-task-package/final-metric-scores/baselines/*.sys.*')\n",
    "submissions_syss = glob.glob('./wmt17-metrics-task-package/final-metric-scores/submissions-processed/*/*.sys.*')\n",
    "\n",
    "scores_dict = dict()\n",
    "metric_sys_names = set()\n",
    "\n",
    "for i in itertools.chain(baseline_syss, submissions_syss):\n",
    "    metric_name = i.split('/')[-1]\n",
    "    metric_name = metric_name[:-len('.seg.score.gz')] if metric_name.endswith('.gz') else metric_name[:-len('.seg.score')]\n",
    "    print(metric_name)\n",
    "    \n",
    "    if i.endswith('.gz'):\n",
    "        syss = (re.split(r'\\s+|\\t', s) for s in gzip.open(i, 'rt'))\n",
    "    else:\n",
    "        syss = (re.split(r'\\s+|\\t', s) for s in open(i, 'rt'))\n",
    "        \n",
    "    for row in syss:\n",
    "        lp, sys, metric, score = row[1], row[3], row[0], row[4]\n",
    "        metric_sys_names.add(metric)\n",
    "        \n",
    "        scores_dict[(lp,sys)] = scores_dict[(lp,sys)] if (lp, sys) in scores_dict else []\n",
    "        scores_dict[(lp, sys)].append((metric, float(score)))\n",
    "    \n",
    "print(len(scores_dict))\n",
    "print(scores_dict['en-ru', 'PROMT-Rule-based.4736'])"
   ]
  },
  {
   "cell_type": "code",
   "execution_count": null,
   "metadata": {},
   "outputs": [],
   "source": [
    "da_sys = csv.reader(open('./wmt17-metrics-task-package/manual-evaluation/DA-syslevel.csv'), delimiter=' ')\n",
    "headers = next(da_sys)\n",
    "\n",
    "data = { 'lp': [], 'src' : [], 'trg' : [], 'sys': [], 'human': [] }\n",
    "for metric_name in metric_sys_names:\n",
    "    data['metric:%s' % metric_name] = []\n",
    "print(data)\n",
    "\n",
    "da_dict = {}\n",
    "da_flags = {}\n",
    "for row in da_sys:\n",
    "    lp = row[0]\n",
    "    score = row[1]\n",
    "    sys = row[2]\n",
    "    \n",
    "    key = (lp, sys)\n",
    "    if key in scores_dict:\n",
    "        data['lp'].append(lp)\n",
    "        data['src'].append(lp[0:2])\n",
    "        data['trg'].append(lp[3:])\n",
    "        data['sys'].append(sys)\n",
    "        data['human'].append(float(score))\n",
    "        \n",
    "        metric_col = { metric_name : None for metric_name in metric_sys_names }\n",
    "            \n",
    "        if key in scores_dict:\n",
    "            for metric, score in scores_dict[key]:\n",
    "                metric_col[metric] = score\n",
    "\n",
    "            for metric, score in metric_col.items():\n",
    "                data['metric:%s' % metric].append(score)\n",
    "    else:\n",
    "        print('error', (lp, sys))\n",
    "    \n",
    "print(list(da_dict.items())[:10])"
   ]
  },
  {
   "cell_type": "code",
   "execution_count": null,
   "metadata": {},
   "outputs": [],
   "source": [
    "#for k, v in data.items():\n",
    "#    print(k, len(v))\n",
    "test_sys = pd.DataFrame(data)\n",
    "test_sys"
   ]
  },
  {
   "cell_type": "code",
   "execution_count": null,
   "metadata": {},
   "outputs": [],
   "source": [
    "test_sys[test_sys.trg == 'en'].groupby('lp').count().iloc[:, 3].T"
   ]
  },
  {
   "cell_type": "code",
   "execution_count": null,
   "metadata": {},
   "outputs": [],
   "source": [
    "test_sys[test_sys.src == 'en'].groupby('lp').count().iloc[:, 3].T"
   ]
  },
  {
   "cell_type": "code",
   "execution_count": null,
   "metadata": {},
   "outputs": [],
   "source": [
    "test['trg'].value_counts().plot(kind='bar')"
   ]
  },
  {
   "cell_type": "code",
   "execution_count": null,
   "metadata": {},
   "outputs": [],
   "source": [
    "test['human'].hist()"
   ]
  },
  {
   "cell_type": "code",
   "execution_count": null,
   "metadata": {},
   "outputs": [],
   "source": [
    "dev_en = dev[dev.trg == 'en']\n",
    "print('Dev, trg-en')\n",
    "print(dev_en['src'].value_counts())\n",
    "print(len(dev_en))\n",
    "\n",
    "test_en = test[test.trg == 'en']\n",
    "print('Test, trg-en')\n",
    "print(test_en['src'].value_counts())\n",
    "print(len(test_en))"
   ]
  },
  {
   "cell_type": "markdown",
   "metadata": {},
   "source": [
    "### Save data"
   ]
  },
  {
   "cell_type": "code",
   "execution_count": null,
   "metadata": {},
   "outputs": [],
   "source": [
    "trg_en = pd.concat([dev_en, test_en])\n",
    "for column in trg_en:\n",
    "    print('Writing column: %s' % column)\n",
    "    handle = open('./data/trg-en/%s' % column, 'wt')\n",
    "    \n",
    "    li = trg_en[column].apply(lambda x: str(x)).tolist()\n",
    "    handle.write('\\n'.join(li))\n",
    "    handle.close()"
   ]
  }
 ],
 "metadata": {
  "kernelspec": {
   "display_name": "Python 3",
   "language": "python",
   "name": "python3"
  },
  "language_info": {
   "codemirror_mode": {
    "name": "ipython",
    "version": 3
   },
   "file_extension": ".py",
   "mimetype": "text/x-python",
   "name": "python",
   "nbconvert_exporter": "python",
   "pygments_lexer": "ipython3",
   "version": "3.7.2"
  }
 },
 "nbformat": 4,
 "nbformat_minor": 2
}
